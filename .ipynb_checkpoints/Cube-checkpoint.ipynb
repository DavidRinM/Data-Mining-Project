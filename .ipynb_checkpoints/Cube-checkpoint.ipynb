{
 "cells": [
  {
   "cell_type": "markdown",
   "metadata": {},
   "source": [
    "# Equipo #1\n",
    "\n",
    "- Contreras Molina Vannesa Samanda\n",
    "- Cruz Cortés Alba Cristina\n",
    "- Delgado Barajas Fabiola Alejandra\n",
    "- Hernandez Martinez Abraham\n",
    "- Huerta Rangel Alejandra\n",
    "- Rincon Morales David"
   ]
  },
  {
   "cell_type": "markdown",
   "metadata": {},
   "source": [
    "# Lectura de BD\n"
   ]
  },
  {
   "cell_type": "code",
   "execution_count": 1,
   "metadata": {
    "ExecuteTime": {
     "end_time": "2021-05-26T15:32:58.306703Z",
     "start_time": "2021-05-26T15:32:57.981763Z"
    }
   },
   "outputs": [],
   "source": [
    "import pandas as pd\n",
    "import numpy as np\n",
    "\n",
    "import json as js\n",
    "from sqlalchemy import create_engine\n",
    "import mysql.connector\n",
    "\n",
    "import datetime as dt"
   ]
  },
  {
   "cell_type": "code",
   "execution_count": 2,
   "metadata": {
    "ExecuteTime": {
     "end_time": "2021-05-26T15:32:59.321851Z",
     "start_time": "2021-05-26T15:32:58.308126Z"
    }
   },
   "outputs": [],
   "source": [
    "\"\"\"\n",
    "Change to a function try-catch\n",
    "\"\"\"\n",
    "\n",
    "mydb = mysql.connector.connect(\n",
    "  host=\"relational.fit.cvut.cz\",\n",
    "  port = 3306,\n",
    "  db = \"financial\",\n",
    "  user=\"guest\",\n",
    "  passwd=\"relational\"\n",
    ")"
   ]
  },
  {
   "cell_type": "code",
   "execution_count": 3,
   "metadata": {
    "ExecuteTime": {
     "end_time": "2021-05-26T15:33:18.419313Z",
     "start_time": "2021-05-26T15:32:59.327664Z"
    }
   },
   "outputs": [],
   "source": [
    "account = pd.read_sql(con = mydb, sql = \"select account_id, date as account_creation_date, district_id as account_location from account\")\n",
    "client = pd.read_sql(con = mydb, sql=\"Select client_id, birth_date, gender From client\")\n",
    "trans = pd.read_sql(con = mydb, sql = \"select account_id, trans_id, date as trans_date, operation, amount as trans_amount, balance as balance_after_trans from trans\")\n",
    "disp = pd.read_sql(con = mydb, sql = \"select client_id, account_id, type from disp\")\n",
    "district = pd.read_sql(con = mydb, sql = \"select district_id as account_location, A2 as nombre_distrito, A3 as region_distrito from district\")"
   ]
  },
  {
   "cell_type": "code",
   "execution_count": 4,
   "metadata": {
    "ExecuteTime": {
     "end_time": "2021-05-26T15:33:18.445841Z",
     "start_time": "2021-05-26T15:33:18.423445Z"
    }
   },
   "outputs": [],
   "source": [
    "disposition = disp.merge(client, on = \"client_id\", how = \"inner\")"
   ]
  },
  {
   "cell_type": "code",
   "execution_count": 5,
   "metadata": {
    "ExecuteTime": {
     "end_time": "2021-05-26T15:33:18.467494Z",
     "start_time": "2021-05-26T15:33:18.451718Z"
    }
   },
   "outputs": [],
   "source": [
    "account_new = account.merge(disposition, on = \"account_id\", how = \"inner\")"
   ]
  },
  {
   "cell_type": "code",
   "execution_count": 6,
   "metadata": {
    "ExecuteTime": {
     "end_time": "2021-05-26T15:33:19.260387Z",
     "start_time": "2021-05-26T15:33:18.469839Z"
    }
   },
   "outputs": [],
   "source": [
    "transactions = trans.merge(account_new, on = \"account_id\", how = \"inner\")\n",
    "\n",
    "transactions = transactions.merge(district, on = \"account_location\", how = \"inner\")\n",
    "\n",
    "transactions.drop([\"account_location\", \"client_id\"], axis=1, inplace=True)\n",
    "\n",
    "transactions = transactions.reset_index(drop=True)"
   ]
  },
  {
   "cell_type": "code",
   "execution_count": 7,
   "metadata": {
    "ExecuteTime": {
     "end_time": "2021-05-26T15:33:19.282668Z",
     "start_time": "2021-05-26T15:33:19.261848Z"
    }
   },
   "outputs": [
    {
     "data": {
      "text/html": [
       "<div>\n",
       "<style scoped>\n",
       "    .dataframe tbody tr th:only-of-type {\n",
       "        vertical-align: middle;\n",
       "    }\n",
       "\n",
       "    .dataframe tbody tr th {\n",
       "        vertical-align: top;\n",
       "    }\n",
       "\n",
       "    .dataframe thead th {\n",
       "        text-align: right;\n",
       "    }\n",
       "</style>\n",
       "<table border=\"1\" class=\"dataframe\">\n",
       "  <thead>\n",
       "    <tr style=\"text-align: right;\">\n",
       "      <th></th>\n",
       "      <th>account_id</th>\n",
       "      <th>trans_id</th>\n",
       "      <th>trans_date</th>\n",
       "      <th>operation</th>\n",
       "      <th>trans_amount</th>\n",
       "      <th>balance_after_trans</th>\n",
       "      <th>account_creation_date</th>\n",
       "      <th>type</th>\n",
       "      <th>birth_date</th>\n",
       "      <th>gender</th>\n",
       "      <th>nombre_distrito</th>\n",
       "      <th>region_distrito</th>\n",
       "    </tr>\n",
       "  </thead>\n",
       "  <tbody>\n",
       "    <tr>\n",
       "      <th>0</th>\n",
       "      <td>1</td>\n",
       "      <td>1</td>\n",
       "      <td>1995-03-24</td>\n",
       "      <td>VKLAD</td>\n",
       "      <td>1000</td>\n",
       "      <td>1000</td>\n",
       "      <td>1995-03-24</td>\n",
       "      <td>OWNER</td>\n",
       "      <td>1970-12-13</td>\n",
       "      <td>F</td>\n",
       "      <td>Pisek</td>\n",
       "      <td>south Bohemia</td>\n",
       "    </tr>\n",
       "    <tr>\n",
       "      <th>1</th>\n",
       "      <td>1</td>\n",
       "      <td>5</td>\n",
       "      <td>1995-04-13</td>\n",
       "      <td>PREVOD Z UCTU</td>\n",
       "      <td>3679</td>\n",
       "      <td>4679</td>\n",
       "      <td>1995-03-24</td>\n",
       "      <td>OWNER</td>\n",
       "      <td>1970-12-13</td>\n",
       "      <td>F</td>\n",
       "      <td>Pisek</td>\n",
       "      <td>south Bohemia</td>\n",
       "    </tr>\n",
       "    <tr>\n",
       "      <th>2</th>\n",
       "      <td>1</td>\n",
       "      <td>6</td>\n",
       "      <td>1995-05-13</td>\n",
       "      <td>PREVOD Z UCTU</td>\n",
       "      <td>3679</td>\n",
       "      <td>20977</td>\n",
       "      <td>1995-03-24</td>\n",
       "      <td>OWNER</td>\n",
       "      <td>1970-12-13</td>\n",
       "      <td>F</td>\n",
       "      <td>Pisek</td>\n",
       "      <td>south Bohemia</td>\n",
       "    </tr>\n",
       "    <tr>\n",
       "      <th>3</th>\n",
       "      <td>1</td>\n",
       "      <td>7</td>\n",
       "      <td>1995-06-13</td>\n",
       "      <td>PREVOD Z UCTU</td>\n",
       "      <td>3679</td>\n",
       "      <td>26835</td>\n",
       "      <td>1995-03-24</td>\n",
       "      <td>OWNER</td>\n",
       "      <td>1970-12-13</td>\n",
       "      <td>F</td>\n",
       "      <td>Pisek</td>\n",
       "      <td>south Bohemia</td>\n",
       "    </tr>\n",
       "    <tr>\n",
       "      <th>4</th>\n",
       "      <td>1</td>\n",
       "      <td>8</td>\n",
       "      <td>1995-07-13</td>\n",
       "      <td>PREVOD Z UCTU</td>\n",
       "      <td>3679</td>\n",
       "      <td>30415</td>\n",
       "      <td>1995-03-24</td>\n",
       "      <td>OWNER</td>\n",
       "      <td>1970-12-13</td>\n",
       "      <td>F</td>\n",
       "      <td>Pisek</td>\n",
       "      <td>south Bohemia</td>\n",
       "    </tr>\n",
       "    <tr>\n",
       "      <th>...</th>\n",
       "      <td>...</td>\n",
       "      <td>...</td>\n",
       "      <td>...</td>\n",
       "      <td>...</td>\n",
       "      <td>...</td>\n",
       "      <td>...</td>\n",
       "      <td>...</td>\n",
       "      <td>...</td>\n",
       "      <td>...</td>\n",
       "      <td>...</td>\n",
       "      <td>...</td>\n",
       "      <td>...</td>\n",
       "    </tr>\n",
       "    <tr>\n",
       "      <th>1262620</th>\n",
       "      <td>11244</td>\n",
       "      <td>3528724</td>\n",
       "      <td>1998-08-31</td>\n",
       "      <td>None</td>\n",
       "      <td>164</td>\n",
       "      <td>34017</td>\n",
       "      <td>1997-01-12</td>\n",
       "      <td>OWNER</td>\n",
       "      <td>1948-07-31</td>\n",
       "      <td>F</td>\n",
       "      <td>Decin</td>\n",
       "      <td>north Bohemia</td>\n",
       "    </tr>\n",
       "    <tr>\n",
       "      <th>1262621</th>\n",
       "      <td>11244</td>\n",
       "      <td>3528725</td>\n",
       "      <td>1998-09-30</td>\n",
       "      <td>None</td>\n",
       "      <td>158</td>\n",
       "      <td>46507</td>\n",
       "      <td>1997-01-12</td>\n",
       "      <td>OWNER</td>\n",
       "      <td>1948-07-31</td>\n",
       "      <td>F</td>\n",
       "      <td>Decin</td>\n",
       "      <td>north Bohemia</td>\n",
       "    </tr>\n",
       "    <tr>\n",
       "      <th>1262622</th>\n",
       "      <td>11244</td>\n",
       "      <td>3528726</td>\n",
       "      <td>1998-10-31</td>\n",
       "      <td>None</td>\n",
       "      <td>121</td>\n",
       "      <td>22426</td>\n",
       "      <td>1997-01-12</td>\n",
       "      <td>OWNER</td>\n",
       "      <td>1948-07-31</td>\n",
       "      <td>F</td>\n",
       "      <td>Decin</td>\n",
       "      <td>north Bohemia</td>\n",
       "    </tr>\n",
       "    <tr>\n",
       "      <th>1262623</th>\n",
       "      <td>11244</td>\n",
       "      <td>3528727</td>\n",
       "      <td>1998-11-30</td>\n",
       "      <td>None</td>\n",
       "      <td>63</td>\n",
       "      <td>11083</td>\n",
       "      <td>1997-01-12</td>\n",
       "      <td>OWNER</td>\n",
       "      <td>1948-07-31</td>\n",
       "      <td>F</td>\n",
       "      <td>Decin</td>\n",
       "      <td>north Bohemia</td>\n",
       "    </tr>\n",
       "    <tr>\n",
       "      <th>1262624</th>\n",
       "      <td>11244</td>\n",
       "      <td>3528728</td>\n",
       "      <td>1998-12-31</td>\n",
       "      <td>None</td>\n",
       "      <td>102</td>\n",
       "      <td>19049</td>\n",
       "      <td>1997-01-12</td>\n",
       "      <td>OWNER</td>\n",
       "      <td>1948-07-31</td>\n",
       "      <td>F</td>\n",
       "      <td>Decin</td>\n",
       "      <td>north Bohemia</td>\n",
       "    </tr>\n",
       "  </tbody>\n",
       "</table>\n",
       "<p>1262625 rows × 12 columns</p>\n",
       "</div>"
      ],
      "text/plain": [
       "         account_id  trans_id  trans_date      operation  trans_amount  \\\n",
       "0                 1         1  1995-03-24          VKLAD          1000   \n",
       "1                 1         5  1995-04-13  PREVOD Z UCTU          3679   \n",
       "2                 1         6  1995-05-13  PREVOD Z UCTU          3679   \n",
       "3                 1         7  1995-06-13  PREVOD Z UCTU          3679   \n",
       "4                 1         8  1995-07-13  PREVOD Z UCTU          3679   \n",
       "...             ...       ...         ...            ...           ...   \n",
       "1262620       11244   3528724  1998-08-31           None           164   \n",
       "1262621       11244   3528725  1998-09-30           None           158   \n",
       "1262622       11244   3528726  1998-10-31           None           121   \n",
       "1262623       11244   3528727  1998-11-30           None            63   \n",
       "1262624       11244   3528728  1998-12-31           None           102   \n",
       "\n",
       "         balance_after_trans account_creation_date   type  birth_date gender  \\\n",
       "0                       1000            1995-03-24  OWNER  1970-12-13      F   \n",
       "1                       4679            1995-03-24  OWNER  1970-12-13      F   \n",
       "2                      20977            1995-03-24  OWNER  1970-12-13      F   \n",
       "3                      26835            1995-03-24  OWNER  1970-12-13      F   \n",
       "4                      30415            1995-03-24  OWNER  1970-12-13      F   \n",
       "...                      ...                   ...    ...         ...    ...   \n",
       "1262620                34017            1997-01-12  OWNER  1948-07-31      F   \n",
       "1262621                46507            1997-01-12  OWNER  1948-07-31      F   \n",
       "1262622                22426            1997-01-12  OWNER  1948-07-31      F   \n",
       "1262623                11083            1997-01-12  OWNER  1948-07-31      F   \n",
       "1262624                19049            1997-01-12  OWNER  1948-07-31      F   \n",
       "\n",
       "        nombre_distrito region_distrito  \n",
       "0                 Pisek   south Bohemia  \n",
       "1                 Pisek   south Bohemia  \n",
       "2                 Pisek   south Bohemia  \n",
       "3                 Pisek   south Bohemia  \n",
       "4                 Pisek   south Bohemia  \n",
       "...                 ...             ...  \n",
       "1262620           Decin   north Bohemia  \n",
       "1262621           Decin   north Bohemia  \n",
       "1262622           Decin   north Bohemia  \n",
       "1262623           Decin   north Bohemia  \n",
       "1262624           Decin   north Bohemia  \n",
       "\n",
       "[1262625 rows x 12 columns]"
      ]
     },
     "execution_count": 7,
     "metadata": {},
     "output_type": "execute_result"
    }
   ],
   "source": [
    "transactions"
   ]
  },
  {
   "cell_type": "code",
   "execution_count": 8,
   "metadata": {
    "ExecuteTime": {
     "end_time": "2021-05-26T15:33:19.288816Z",
     "start_time": "2021-05-26T15:33:19.284213Z"
    }
   },
   "outputs": [],
   "source": [
    "def columns_to_datetime(df):\n",
    "    \n",
    "    transactions[\"trans_date\"] = pd.to_datetime(transactions[\"trans_date\"])\n",
    "    transactions[\"account_creation_date\"] = pd.to_datetime(transactions[\"account_creation_date\"])\n",
    "    transactions[\"birth_date\"] = pd.to_datetime(transactions[\"birth_date\"])\n",
    "    \n",
    "    return df"
   ]
  },
  {
   "cell_type": "code",
   "execution_count": 13,
   "metadata": {
    "ExecuteTime": {
     "end_time": "2021-05-26T15:34:19.300085Z",
     "start_time": "2021-05-26T15:34:19.293759Z"
    }
   },
   "outputs": [],
   "source": [
    "def get_age(df):\n",
    "    \"\"\"\n",
    "    Gets years from date.\n",
    "    \n",
    "    Need to update function in order to allow any column as parameter\n",
    "    \"\"\"\n",
    "    \n",
    "    now = pd.datetime.now()\n",
    "    \n",
    "    transactions['account_creation_date'] = transactions['account_creation_date'].where(transactions['account_creation_date'] < now, transactions['account_creation_date'] -  np.timedelta64(100, 'Y'))   # 2\n",
    "    transactions['account_age'] = (now - transactions['account_creation_date']).astype('<m8[Y]')\n",
    "    transactions['account_age'] = transactions['account_age'].astype(int)\n",
    "    \n",
    "    transactions['birth_date'] = transactions['birth_date'].where(transactions['birth_date'] < now, transactions['birth_date'] -  np.timedelta64(100, 'Y'))   # 2\n",
    "    transactions['client_age'] = (now - transactions['birth_date']).astype('<m8[Y]')\n",
    "    transactions['client_age'] = transactions['client_age'].astype(int)\n",
    "    \n",
    "    transactions.drop([\"account_creation_date\"], axis=1, inplace=True)\n",
    "    transactions.drop([\"birth_date\"], axis=1, inplace=True)\n",
    "    \n",
    "    return df"
   ]
  },
  {
   "cell_type": "code",
   "execution_count": 10,
   "metadata": {
    "ExecuteTime": {
     "end_time": "2021-05-26T15:33:19.779050Z",
     "start_time": "2021-05-26T15:33:19.299057Z"
    }
   },
   "outputs": [],
   "source": [
    "transactions = columns_to_datetime(transactions)"
   ]
  },
  {
   "cell_type": "code",
   "execution_count": 11,
   "metadata": {
    "ExecuteTime": {
     "end_time": "2021-05-26T15:33:20.046672Z",
     "start_time": "2021-05-26T15:33:19.780071Z"
    }
   },
   "outputs": [
    {
     "name": "stderr",
     "output_type": "stream",
     "text": [
      "/home/david/Documents/Python envs/mineria/lib/python3.6/site-packages/ipykernel_launcher.py:3: FutureWarning: The pandas.datetime class is deprecated and will be removed from pandas in a future version. Import from datetime instead.\n",
      "  This is separate from the ipykernel package so we can avoid doing imports until\n"
     ]
    }
   ],
   "source": [
    "transactions = get_age(transactions)"
   ]
  },
  {
   "cell_type": "code",
   "execution_count": 15,
   "metadata": {
    "ExecuteTime": {
     "end_time": "2021-05-26T15:38:53.471541Z",
     "start_time": "2021-05-26T15:38:46.002418Z"
    }
   },
   "outputs": [],
   "source": [
    "transactions.to_csv(\"transactions.csv\", index=False)"
   ]
  },
  {
   "cell_type": "code",
   "execution_count": null,
   "metadata": {},
   "outputs": [],
   "source": []
  }
 ],
 "metadata": {
  "kernelspec": {
   "display_name": "mineria",
   "language": "python",
   "name": "mineria"
  },
  "language_info": {
   "codemirror_mode": {
    "name": "ipython",
    "version": 3
   },
   "file_extension": ".py",
   "mimetype": "text/x-python",
   "name": "python",
   "nbconvert_exporter": "python",
   "pygments_lexer": "ipython3",
   "version": "3.6.9"
  },
  "toc": {
   "base_numbering": 1,
   "nav_menu": {},
   "number_sections": true,
   "sideBar": true,
   "skip_h1_title": false,
   "title_cell": "Table of Contents",
   "title_sidebar": "Contents",
   "toc_cell": false,
   "toc_position": {},
   "toc_section_display": true,
   "toc_window_display": false
  }
 },
 "nbformat": 4,
 "nbformat_minor": 4
}
