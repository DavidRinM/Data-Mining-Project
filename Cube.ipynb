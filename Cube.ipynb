{
 "cells": [
  {
   "cell_type": "markdown",
   "metadata": {},
   "source": [
    "# Equipo #1\n",
    "\n",
    "- Contreras Molina Vannesa Samanda\n",
    "- Cruz Cortés Alba Cristina\n",
    "- Delgado Barajas Fabiola Alejandra\n",
    "- Hernandez Martinez Abraham\n",
    "- Huerta Rangel Alejandra\n",
    "- Rincon Morales David"
   ]
  },
  {
   "cell_type": "markdown",
   "metadata": {},
   "source": [
    "# Lectura de BD\n"
   ]
  },
  {
   "cell_type": "code",
   "execution_count": 1,
   "metadata": {
    "ExecuteTime": {
     "end_time": "2021-05-27T20:52:52.988800Z",
     "start_time": "2021-05-27T20:52:52.648720Z"
    }
   },
   "outputs": [],
   "source": [
    "import pandas as pd\n",
    "import numpy as np\n",
    "\n",
    "import json as js\n",
    "from sqlalchemy import create_engine\n",
    "import mysql.connector\n",
    "\n",
    "import datetime as dt"
   ]
  },
  {
   "cell_type": "code",
   "execution_count": null,
   "metadata": {
    "ExecuteTime": {
     "end_time": "2021-05-27T03:29:55.723084Z",
     "start_time": "2021-05-27T03:29:54.157279Z"
    }
   },
   "outputs": [],
   "source": [
    "!pip install pymysql"
   ]
  },
  {
   "cell_type": "code",
   "execution_count": 2,
   "metadata": {
    "ExecuteTime": {
     "end_time": "2021-05-27T20:52:54.108578Z",
     "start_time": "2021-05-27T20:52:54.101674Z"
    }
   },
   "outputs": [],
   "source": [
    "import pymysql\n",
    "pymysql.install_as_MySQLdb()"
   ]
  },
  {
   "cell_type": "code",
   "execution_count": 3,
   "metadata": {
    "ExecuteTime": {
     "end_time": "2021-05-27T20:52:56.046357Z",
     "start_time": "2021-05-27T20:52:54.976391Z"
    }
   },
   "outputs": [],
   "source": [
    "\"\"\"\n",
    "Change to a function try-catch\n",
    "\"\"\"\n",
    "\n",
    "mydb = mysql.connector.connect(\n",
    "  host=\"relational.fit.cvut.cz\",\n",
    "  port = 3306,\n",
    "  db = \"financial\",\n",
    "  user=\"guest\",\n",
    "  passwd=\"relational\"\n",
    ")"
   ]
  },
  {
   "cell_type": "code",
   "execution_count": 4,
   "metadata": {
    "ExecuteTime": {
     "end_time": "2021-05-27T20:53:21.584241Z",
     "start_time": "2021-05-27T20:52:56.047338Z"
    }
   },
   "outputs": [],
   "source": [
    "account = pd.read_sql(con = mydb, sql = \"select account_id, date as account_creation_date, district_id as account_location from account\")\n",
    "client = pd.read_sql(con = mydb, sql=\"Select client_id, birth_date, gender From client\")\n",
    "trans = pd.read_sql(con = mydb, sql = \"select account_id,trans_id, date as trans_date, operation, amount as trans_amount, balance as balance_after_trans from trans\")\n",
    "disp = pd.read_sql(con = mydb, sql = \"select client_id, account_id, type from disp\")\n",
    "district = pd.read_sql(con = mydb, sql = \"select district_id as account_location, A2 as nombre_distrito, A3 as region_distrito from district\")"
   ]
  },
  {
   "cell_type": "code",
   "execution_count": 5,
   "metadata": {
    "ExecuteTime": {
     "end_time": "2021-05-27T20:53:21.590241Z",
     "start_time": "2021-05-27T20:53:21.585409Z"
    }
   },
   "outputs": [],
   "source": [
    "disposition = disp.merge(client, on = \"client_id\", how = \"inner\")"
   ]
  },
  {
   "cell_type": "code",
   "execution_count": 6,
   "metadata": {
    "ExecuteTime": {
     "end_time": "2021-05-27T20:53:21.599183Z",
     "start_time": "2021-05-27T20:53:21.591823Z"
    }
   },
   "outputs": [],
   "source": [
    "account_new = account.merge(disposition, on = \"account_id\", how = \"inner\")"
   ]
  },
  {
   "cell_type": "code",
   "execution_count": 7,
   "metadata": {
    "ExecuteTime": {
     "end_time": "2021-05-27T20:53:22.365184Z",
     "start_time": "2021-05-27T20:53:21.600120Z"
    }
   },
   "outputs": [],
   "source": [
    "transactions = trans.merge(account_new, on = \"account_id\", how = \"inner\")\n",
    "\n",
    "transactions = transactions.merge(district, on = \"account_location\", how = \"inner\")\n",
    "\n",
    "transactions.drop([\"account_location\", \"client_id\"], axis=1, inplace=True)\n",
    "\n",
    "transactions = transactions.reset_index(drop=True)"
   ]
  },
  {
   "cell_type": "code",
   "execution_count": 8,
   "metadata": {
    "ExecuteTime": {
     "end_time": "2021-05-27T20:53:22.666353Z",
     "start_time": "2021-05-27T20:53:22.366276Z"
    }
   },
   "outputs": [
    {
     "data": {
      "text/plain": [
       "account_id                    0\n",
       "trans_id                      0\n",
       "trans_date                    0\n",
       "operation                218311\n",
       "trans_amount                  0\n",
       "balance_after_trans           0\n",
       "account_creation_date         0\n",
       "type                          0\n",
       "birth_date                    0\n",
       "gender                        0\n",
       "nombre_distrito               0\n",
       "region_distrito               0\n",
       "dtype: int64"
      ]
     },
     "execution_count": 8,
     "metadata": {},
     "output_type": "execute_result"
    }
   ],
   "source": [
    "transactions.isnull().sum()"
   ]
  },
  {
   "cell_type": "code",
   "execution_count": 9,
   "metadata": {
    "ExecuteTime": {
     "end_time": "2021-05-27T20:53:22.789281Z",
     "start_time": "2021-05-27T20:53:22.668235Z"
    }
   },
   "outputs": [
    {
     "data": {
      "text/plain": [
       "VYBER             517031\n",
       "PREVOD NA UCET    254449\n",
       "VKLAD             181962\n",
       "PREVOD Z UCTU      81601\n",
       "VYBER KARTOU        9271\n",
       "Name: operation, dtype: int64"
      ]
     },
     "execution_count": 9,
     "metadata": {},
     "output_type": "execute_result"
    }
   ],
   "source": [
    "transactions[\"operation\"].value_counts()"
   ]
  },
  {
   "cell_type": "code",
   "execution_count": 10,
   "metadata": {
    "ExecuteTime": {
     "end_time": "2021-05-27T20:53:23.136314Z",
     "start_time": "2021-05-27T20:53:22.790513Z"
    }
   },
   "outputs": [
    {
     "data": {
      "text/plain": [
       "account_id               0\n",
       "trans_id                 0\n",
       "trans_date               0\n",
       "operation                0\n",
       "trans_amount             0\n",
       "balance_after_trans      0\n",
       "account_creation_date    0\n",
       "type                     0\n",
       "birth_date               0\n",
       "gender                   0\n",
       "nombre_distrito          0\n",
       "region_distrito          0\n",
       "dtype: int64"
      ]
     },
     "execution_count": 10,
     "metadata": {},
     "output_type": "execute_result"
    }
   ],
   "source": [
    "transactions[\"operation\"].fillna(value=\"Operacion no definida\", inplace=True)\n",
    "transactions.isnull().sum()"
   ]
  },
  {
   "cell_type": "code",
   "execution_count": 11,
   "metadata": {
    "ExecuteTime": {
     "end_time": "2021-05-27T20:53:23.230499Z",
     "start_time": "2021-05-27T20:53:23.137601Z"
    }
   },
   "outputs": [
    {
     "data": {
      "text/plain": [
       "VYBER                    517031\n",
       "PREVOD NA UCET           254449\n",
       "Operacion no definida    218311\n",
       "VKLAD                    181962\n",
       "PREVOD Z UCTU             81601\n",
       "VYBER KARTOU               9271\n",
       "Name: operation, dtype: int64"
      ]
     },
     "execution_count": 11,
     "metadata": {},
     "output_type": "execute_result"
    }
   ],
   "source": [
    "transactions[\"operation\"].value_counts()"
   ]
  },
  {
   "cell_type": "code",
   "execution_count": 12,
   "metadata": {
    "ExecuteTime": {
     "end_time": "2021-05-27T20:53:23.237756Z",
     "start_time": "2021-05-27T20:53:23.231584Z"
    }
   },
   "outputs": [],
   "source": [
    "def columns_to_datetime(df):\n",
    "    \n",
    "    df[\"trans_date\"] = pd.to_datetime(df[\"trans_date\"])\n",
    "    df[\"account_creation_date\"] = pd.to_datetime(df[\"account_creation_date\"])\n",
    "    df[\"birth_date\"] = pd.to_datetime(df[\"birth_date\"])\n",
    "    \n",
    "    df[\"transaction_month\"] = df[\"trans_date\"].dt.month\n",
    "    df[\"transaction_year\"] = df[\"trans_date\"].dt.year\n",
    "    \n",
    "    df.drop([\"trans_date\"], axis=1, inplace=True)\n",
    "    \n",
    "    return df"
   ]
  },
  {
   "cell_type": "code",
   "execution_count": 13,
   "metadata": {
    "ExecuteTime": {
     "end_time": "2021-05-27T20:53:23.250066Z",
     "start_time": "2021-05-27T20:53:23.238863Z"
    }
   },
   "outputs": [],
   "source": [
    "def get_age(df):\n",
    "    \"\"\"\n",
    "    Gets years from date.\n",
    "    \n",
    "    Need to update function in order to allow any column as parameter\n",
    "    \"\"\"\n",
    "    \n",
    "    now = pd.datetime.now()\n",
    "    \n",
    "    transactions['account_creation_date'] = transactions['account_creation_date'].where(transactions['account_creation_date'] < now, transactions['account_creation_date'] -  np.timedelta64(100, 'Y'))   # 2\n",
    "    transactions['account_age'] = (now - transactions['account_creation_date']).astype('<m8[Y]')\n",
    "    transactions['account_age'] = transactions['account_age'].astype(int)\n",
    "    \n",
    "    transactions['birth_date'] = transactions['birth_date'].where(transactions['birth_date'] < now, transactions['birth_date'] -  np.timedelta64(100, 'Y'))   # 2\n",
    "    transactions['client_age'] = (now - transactions['birth_date']).astype('<m8[Y]')\n",
    "    transactions['client_age'] = transactions['client_age'].astype(int)\n",
    "    \n",
    "    transactions.drop([\"account_creation_date\"], axis=1, inplace=True)\n",
    "    transactions.drop([\"birth_date\"], axis=1, inplace=True)\n",
    "    \n",
    "    return df"
   ]
  },
  {
   "cell_type": "code",
   "execution_count": 14,
   "metadata": {
    "ExecuteTime": {
     "end_time": "2021-05-27T20:53:24.010730Z",
     "start_time": "2021-05-27T20:53:23.253100Z"
    }
   },
   "outputs": [],
   "source": [
    "transactions = columns_to_datetime(transactions)"
   ]
  },
  {
   "cell_type": "code",
   "execution_count": 15,
   "metadata": {
    "ExecuteTime": {
     "end_time": "2021-05-27T20:53:24.318496Z",
     "start_time": "2021-05-27T20:53:24.011956Z"
    }
   },
   "outputs": [
    {
     "name": "stderr",
     "output_type": "stream",
     "text": [
      "/home/david/Documents/Python envs/mineria/lib/python3.6/site-packages/ipykernel_launcher.py:8: FutureWarning: The pandas.datetime class is deprecated and will be removed from pandas in a future version. Import from datetime instead.\n",
      "  \n"
     ]
    }
   ],
   "source": [
    "transactions = get_age(transactions)"
   ]
  },
  {
   "cell_type": "code",
   "execution_count": 16,
   "metadata": {
    "ExecuteTime": {
     "end_time": "2021-05-27T20:53:24.339443Z",
     "start_time": "2021-05-27T20:53:24.319641Z"
    }
   },
   "outputs": [
    {
     "data": {
      "text/html": [
       "<div>\n",
       "<style scoped>\n",
       "    .dataframe tbody tr th:only-of-type {\n",
       "        vertical-align: middle;\n",
       "    }\n",
       "\n",
       "    .dataframe tbody tr th {\n",
       "        vertical-align: top;\n",
       "    }\n",
       "\n",
       "    .dataframe thead th {\n",
       "        text-align: right;\n",
       "    }\n",
       "</style>\n",
       "<table border=\"1\" class=\"dataframe\">\n",
       "  <thead>\n",
       "    <tr style=\"text-align: right;\">\n",
       "      <th></th>\n",
       "      <th>account_id</th>\n",
       "      <th>trans_id</th>\n",
       "      <th>operation</th>\n",
       "      <th>trans_amount</th>\n",
       "      <th>balance_after_trans</th>\n",
       "      <th>type</th>\n",
       "      <th>gender</th>\n",
       "      <th>nombre_distrito</th>\n",
       "      <th>region_distrito</th>\n",
       "      <th>transaction_month</th>\n",
       "      <th>transaction_year</th>\n",
       "      <th>account_age</th>\n",
       "      <th>client_age</th>\n",
       "    </tr>\n",
       "  </thead>\n",
       "  <tbody>\n",
       "    <tr>\n",
       "      <th>0</th>\n",
       "      <td>1</td>\n",
       "      <td>1</td>\n",
       "      <td>VKLAD</td>\n",
       "      <td>1000</td>\n",
       "      <td>1000</td>\n",
       "      <td>OWNER</td>\n",
       "      <td>F</td>\n",
       "      <td>Pisek</td>\n",
       "      <td>south Bohemia</td>\n",
       "      <td>3</td>\n",
       "      <td>1995</td>\n",
       "      <td>26</td>\n",
       "      <td>50</td>\n",
       "    </tr>\n",
       "    <tr>\n",
       "      <th>1</th>\n",
       "      <td>1</td>\n",
       "      <td>5</td>\n",
       "      <td>PREVOD Z UCTU</td>\n",
       "      <td>3679</td>\n",
       "      <td>4679</td>\n",
       "      <td>OWNER</td>\n",
       "      <td>F</td>\n",
       "      <td>Pisek</td>\n",
       "      <td>south Bohemia</td>\n",
       "      <td>4</td>\n",
       "      <td>1995</td>\n",
       "      <td>26</td>\n",
       "      <td>50</td>\n",
       "    </tr>\n",
       "    <tr>\n",
       "      <th>2</th>\n",
       "      <td>1</td>\n",
       "      <td>6</td>\n",
       "      <td>PREVOD Z UCTU</td>\n",
       "      <td>3679</td>\n",
       "      <td>20977</td>\n",
       "      <td>OWNER</td>\n",
       "      <td>F</td>\n",
       "      <td>Pisek</td>\n",
       "      <td>south Bohemia</td>\n",
       "      <td>5</td>\n",
       "      <td>1995</td>\n",
       "      <td>26</td>\n",
       "      <td>50</td>\n",
       "    </tr>\n",
       "    <tr>\n",
       "      <th>3</th>\n",
       "      <td>1</td>\n",
       "      <td>7</td>\n",
       "      <td>PREVOD Z UCTU</td>\n",
       "      <td>3679</td>\n",
       "      <td>26835</td>\n",
       "      <td>OWNER</td>\n",
       "      <td>F</td>\n",
       "      <td>Pisek</td>\n",
       "      <td>south Bohemia</td>\n",
       "      <td>6</td>\n",
       "      <td>1995</td>\n",
       "      <td>26</td>\n",
       "      <td>50</td>\n",
       "    </tr>\n",
       "    <tr>\n",
       "      <th>4</th>\n",
       "      <td>1</td>\n",
       "      <td>8</td>\n",
       "      <td>PREVOD Z UCTU</td>\n",
       "      <td>3679</td>\n",
       "      <td>30415</td>\n",
       "      <td>OWNER</td>\n",
       "      <td>F</td>\n",
       "      <td>Pisek</td>\n",
       "      <td>south Bohemia</td>\n",
       "      <td>7</td>\n",
       "      <td>1995</td>\n",
       "      <td>26</td>\n",
       "      <td>50</td>\n",
       "    </tr>\n",
       "    <tr>\n",
       "      <th>...</th>\n",
       "      <td>...</td>\n",
       "      <td>...</td>\n",
       "      <td>...</td>\n",
       "      <td>...</td>\n",
       "      <td>...</td>\n",
       "      <td>...</td>\n",
       "      <td>...</td>\n",
       "      <td>...</td>\n",
       "      <td>...</td>\n",
       "      <td>...</td>\n",
       "      <td>...</td>\n",
       "      <td>...</td>\n",
       "      <td>...</td>\n",
       "    </tr>\n",
       "    <tr>\n",
       "      <th>1262620</th>\n",
       "      <td>11244</td>\n",
       "      <td>3528724</td>\n",
       "      <td>Operacion no definida</td>\n",
       "      <td>164</td>\n",
       "      <td>34017</td>\n",
       "      <td>OWNER</td>\n",
       "      <td>F</td>\n",
       "      <td>Decin</td>\n",
       "      <td>north Bohemia</td>\n",
       "      <td>8</td>\n",
       "      <td>1998</td>\n",
       "      <td>24</td>\n",
       "      <td>72</td>\n",
       "    </tr>\n",
       "    <tr>\n",
       "      <th>1262621</th>\n",
       "      <td>11244</td>\n",
       "      <td>3528725</td>\n",
       "      <td>Operacion no definida</td>\n",
       "      <td>158</td>\n",
       "      <td>46507</td>\n",
       "      <td>OWNER</td>\n",
       "      <td>F</td>\n",
       "      <td>Decin</td>\n",
       "      <td>north Bohemia</td>\n",
       "      <td>9</td>\n",
       "      <td>1998</td>\n",
       "      <td>24</td>\n",
       "      <td>72</td>\n",
       "    </tr>\n",
       "    <tr>\n",
       "      <th>1262622</th>\n",
       "      <td>11244</td>\n",
       "      <td>3528726</td>\n",
       "      <td>Operacion no definida</td>\n",
       "      <td>121</td>\n",
       "      <td>22426</td>\n",
       "      <td>OWNER</td>\n",
       "      <td>F</td>\n",
       "      <td>Decin</td>\n",
       "      <td>north Bohemia</td>\n",
       "      <td>10</td>\n",
       "      <td>1998</td>\n",
       "      <td>24</td>\n",
       "      <td>72</td>\n",
       "    </tr>\n",
       "    <tr>\n",
       "      <th>1262623</th>\n",
       "      <td>11244</td>\n",
       "      <td>3528727</td>\n",
       "      <td>Operacion no definida</td>\n",
       "      <td>63</td>\n",
       "      <td>11083</td>\n",
       "      <td>OWNER</td>\n",
       "      <td>F</td>\n",
       "      <td>Decin</td>\n",
       "      <td>north Bohemia</td>\n",
       "      <td>11</td>\n",
       "      <td>1998</td>\n",
       "      <td>24</td>\n",
       "      <td>72</td>\n",
       "    </tr>\n",
       "    <tr>\n",
       "      <th>1262624</th>\n",
       "      <td>11244</td>\n",
       "      <td>3528728</td>\n",
       "      <td>Operacion no definida</td>\n",
       "      <td>102</td>\n",
       "      <td>19049</td>\n",
       "      <td>OWNER</td>\n",
       "      <td>F</td>\n",
       "      <td>Decin</td>\n",
       "      <td>north Bohemia</td>\n",
       "      <td>12</td>\n",
       "      <td>1998</td>\n",
       "      <td>24</td>\n",
       "      <td>72</td>\n",
       "    </tr>\n",
       "  </tbody>\n",
       "</table>\n",
       "<p>1262625 rows × 13 columns</p>\n",
       "</div>"
      ],
      "text/plain": [
       "         account_id  trans_id              operation  trans_amount  \\\n",
       "0                 1         1                  VKLAD          1000   \n",
       "1                 1         5          PREVOD Z UCTU          3679   \n",
       "2                 1         6          PREVOD Z UCTU          3679   \n",
       "3                 1         7          PREVOD Z UCTU          3679   \n",
       "4                 1         8          PREVOD Z UCTU          3679   \n",
       "...             ...       ...                    ...           ...   \n",
       "1262620       11244   3528724  Operacion no definida           164   \n",
       "1262621       11244   3528725  Operacion no definida           158   \n",
       "1262622       11244   3528726  Operacion no definida           121   \n",
       "1262623       11244   3528727  Operacion no definida            63   \n",
       "1262624       11244   3528728  Operacion no definida           102   \n",
       "\n",
       "         balance_after_trans   type gender nombre_distrito region_distrito  \\\n",
       "0                       1000  OWNER      F           Pisek   south Bohemia   \n",
       "1                       4679  OWNER      F           Pisek   south Bohemia   \n",
       "2                      20977  OWNER      F           Pisek   south Bohemia   \n",
       "3                      26835  OWNER      F           Pisek   south Bohemia   \n",
       "4                      30415  OWNER      F           Pisek   south Bohemia   \n",
       "...                      ...    ...    ...             ...             ...   \n",
       "1262620                34017  OWNER      F           Decin   north Bohemia   \n",
       "1262621                46507  OWNER      F           Decin   north Bohemia   \n",
       "1262622                22426  OWNER      F           Decin   north Bohemia   \n",
       "1262623                11083  OWNER      F           Decin   north Bohemia   \n",
       "1262624                19049  OWNER      F           Decin   north Bohemia   \n",
       "\n",
       "         transaction_month  transaction_year  account_age  client_age  \n",
       "0                        3              1995           26          50  \n",
       "1                        4              1995           26          50  \n",
       "2                        5              1995           26          50  \n",
       "3                        6              1995           26          50  \n",
       "4                        7              1995           26          50  \n",
       "...                    ...               ...          ...         ...  \n",
       "1262620                  8              1998           24          72  \n",
       "1262621                  9              1998           24          72  \n",
       "1262622                 10              1998           24          72  \n",
       "1262623                 11              1998           24          72  \n",
       "1262624                 12              1998           24          72  \n",
       "\n",
       "[1262625 rows x 13 columns]"
      ]
     },
     "execution_count": 16,
     "metadata": {},
     "output_type": "execute_result"
    }
   ],
   "source": [
    "transactions"
   ]
  },
  {
   "cell_type": "code",
   "execution_count": 17,
   "metadata": {
    "ExecuteTime": {
     "end_time": "2021-05-27T20:53:32.299988Z",
     "start_time": "2021-05-27T20:53:32.160535Z"
    }
   },
   "outputs": [],
   "source": [
    "sample = transactions.sample(frac=0.3)"
   ]
  },
  {
   "cell_type": "code",
   "execution_count": 18,
   "metadata": {
    "ExecuteTime": {
     "end_time": "2021-05-27T20:53:34.215694Z",
     "start_time": "2021-05-27T20:53:33.264012Z"
    }
   },
   "outputs": [],
   "source": [
    "sample.to_csv(\"transactions.csv\", index=False)"
   ]
  },
  {
   "cell_type": "code",
   "execution_count": 20,
   "metadata": {
    "ExecuteTime": {
     "end_time": "2021-05-27T20:54:03.248415Z",
     "start_time": "2021-05-27T20:54:03.246246Z"
    }
   },
   "outputs": [],
   "source": [
    "with open(\"cred_etl.json\", \"r+\") as file:\n",
    "    cred = js.load(file)"
   ]
  },
  {
   "cell_type": "code",
   "execution_count": 21,
   "metadata": {
    "ExecuteTime": {
     "end_time": "2021-05-27T20:54:04.212949Z",
     "start_time": "2021-05-27T20:54:04.206878Z"
    }
   },
   "outputs": [],
   "source": [
    "db =  cred['db']\n",
    "host =  cred['host']\n",
    "port =  cred['port']\n",
    "flavour = cred['flavour']\n",
    "username = cred['username']\n",
    "password = cred['password']"
   ]
  },
  {
   "cell_type": "code",
   "execution_count": 22,
   "metadata": {
    "ExecuteTime": {
     "end_time": "2021-05-27T20:54:06.979680Z",
     "start_time": "2021-05-27T20:54:05.982758Z"
    }
   },
   "outputs": [],
   "source": [
    "etl_jdbc = f\"{flavour}://{username}:{password}@{host}:{port}/{db}\"\n",
    "etl_conn = create_engine(etl_jdbc).connect()"
   ]
  },
  {
   "cell_type": "code",
   "execution_count": 23,
   "metadata": {
    "ExecuteTime": {
     "end_time": "2021-05-27T20:54:45.838210Z",
     "start_time": "2021-05-27T20:54:08.293977Z"
    }
   },
   "outputs": [],
   "source": [
    "sample.to_sql(\"DataEquipo1\", con=etl_conn, if_exists=\"replace\", index=False, chunksize=10000)"
   ]
  },
  {
   "cell_type": "code",
   "execution_count": null,
   "metadata": {},
   "outputs": [],
   "source": []
  }
 ],
 "metadata": {
  "kernelspec": {
   "display_name": "mineria",
   "language": "python",
   "name": "mineria"
  },
  "language_info": {
   "codemirror_mode": {
    "name": "ipython",
    "version": 3
   },
   "file_extension": ".py",
   "mimetype": "text/x-python",
   "name": "python",
   "nbconvert_exporter": "python",
   "pygments_lexer": "ipython3",
   "version": "3.6.9"
  },
  "toc": {
   "base_numbering": 1,
   "nav_menu": {},
   "number_sections": true,
   "sideBar": true,
   "skip_h1_title": false,
   "title_cell": "Table of Contents",
   "title_sidebar": "Contents",
   "toc_cell": false,
   "toc_position": {},
   "toc_section_display": true,
   "toc_window_display": false
  }
 },
 "nbformat": 4,
 "nbformat_minor": 4
}
